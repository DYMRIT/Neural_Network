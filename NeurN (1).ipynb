{
  "nbformat": 4,
  "nbformat_minor": 0,
  "metadata": {
    "colab": {
      "name": "NeurN.ipynb",
      "provenance": [],
      "collapsed_sections": []
    },
    "kernelspec": {
      "name": "python3",
      "display_name": "Python 3"
    }
  },
  "cells": [
    {
      "cell_type": "code",
      "metadata": {
        "id": "qKuvuWSroAup"
      },
      "source": [
        "import tensorflow as tf\n",
        "import numpy as np\n",
        "import matplotlib.pyplot as plt"
      ],
      "execution_count": 1,
      "outputs": []
    },
    {
      "cell_type": "markdown",
      "metadata": {
        "id": "cIKJgkisoMNq"
      },
      "source": [
        "скачаем dataset MNIST и разделим данные на трен. и тест."
      ]
    },
    {
      "cell_type": "code",
      "metadata": {
        "colab": {
          "base_uri": "https://localhost:8080/"
        },
        "id": "urHmCXF3oOJe",
        "outputId": "72f6953e-9a22-400e-d932-0d8bea493b7a"
      },
      "source": [
        "mnist = tf.keras.datasets.mnist\n",
        "(x_train, y_train), (x_test,y_test) = mnist.load_data()"
      ],
      "execution_count": 2,
      "outputs": [
        {
          "output_type": "stream",
          "text": [
            "Downloading data from https://storage.googleapis.com/tensorflow/tf-keras-datasets/mnist.npz\n",
            "11493376/11490434 [==============================] - 0s 0us/step\n"
          ],
          "name": "stdout"
        }
      ]
    },
    {
      "cell_type": "code",
      "metadata": {
        "colab": {
          "base_uri": "https://localhost:8080/"
        },
        "id": "PrEgiuQ60Szl",
        "outputId": "beedb839-365e-45c5-e4dd-153a127691d1"
      },
      "source": [
        "print(x_train.shape)\n",
        "print(x_test.shape)"
      ],
      "execution_count": 74,
      "outputs": [
        {
          "output_type": "stream",
          "text": [
            "(60000, 28, 28)\n",
            "(10000, 28, 28)\n"
          ],
          "name": "stdout"
        }
      ]
    },
    {
      "cell_type": "markdown",
      "metadata": {
        "id": "BYl9w23KoRe3"
      },
      "source": [
        "стандартизация"
      ]
    },
    {
      "cell_type": "code",
      "metadata": {
        "id": "J21MXSnVoSt2"
      },
      "source": [
        "x_train = x_train/255\n",
        "x_test = x_test/255"
      ],
      "execution_count": 3,
      "outputs": []
    },
    {
      "cell_type": "code",
      "metadata": {
        "colab": {
          "base_uri": "https://localhost:8080/",
          "height": 485
        },
        "id": "bZpmOmIyoW0G",
        "outputId": "9f705be8-9282-4605-cc89-00e471eafe58"
      },
      "source": [
        "plt.figure(figsize=(8,8))\n",
        "for i in range(16):\n",
        "  plt.subplot(4,4, i+1)\n",
        "  plt.xticks([])\n",
        "  plt.yticks([])\n",
        "  plt.imshow(x_train[i], cmap =plt.cm.binary)\n",
        "  plt.title(\"this is number {}\".format(y_train[i]))"
      ],
      "execution_count": 4,
      "outputs": [
        {
          "output_type": "display_data",
          "data": {
            "image/png": "[encoded data removed]",
            "text/plain": [
              "<Figure size 576x576 with 16 Axes>"
            ]
          },
          "metadata": {
            "tags": []
          }
        }
      ]
    },
    {
      "cell_type": "markdown",
      "metadata": {
        "id": "sNsTlEqJommo"
      },
      "source": [
        "Распознование цифр с помощью полносвязных сетей\n"
      ]
    },
    {
      "cell_type": "code",
      "metadata": {
        "id": "kxzFnKUtot4f"
      },
      "source": [
        "model1 = tf.keras.models.Sequential([\n",
        "      tf.keras.layers.Flatten(input_shape=(28,28,1)),\n",
        "      tf.keras.layers.Dense(128, activation = tf.nn.sigmoid),\n",
        "      tf.keras.layers.Dense(10, activation = tf.nn.softmax)\n",
        "])"
      ],
      "execution_count": 79,
      "outputs": []
    },
    {
      "cell_type": "code",
      "metadata": {
        "id": "mpVuJ49HpnDh"
      },
      "source": [
        "model1.compile(\n",
        "    optimizer = 'adam',\n",
        "    loss = 'sparse_categorical_crossentropy',\n",
        "    metrics = ['accuracy']\n",
        ")"
      ],
      "execution_count": 80,
      "outputs": []
    },
    {
      "cell_type": "code",
      "metadata": {
        "colab": {
          "base_uri": "https://localhost:8080/"
        },
        "id": "5PmUg-3lqGb5",
        "outputId": "928d7c7f-d18b-4669-e2a8-9689d6601add"
      },
      "source": [
        "model1.fit(x_train,y_train,batch_size=32, epochs=7, validation_split=0.2)"
      ],
      "execution_count": 81,
      "outputs": [
        {
          "output_type": "stream",
          "text": [
            "Epoch 1/7\n",
            "1500/1500 [==============================] - 4s 2ms/step - loss: 0.4442 - accuracy: 0.8864 - val_loss: 0.2460 - val_accuracy: 0.9330\n",
            "Epoch 2/7\n",
            "1500/1500 [==============================] - 4s 2ms/step - loss: 0.2170 - accuracy: 0.9376 - val_loss: 0.1820 - val_accuracy: 0.9491\n",
            "Epoch 3/7\n",
            "1500/1500 [==============================] - 4s 2ms/step - loss: 0.1620 - accuracy: 0.9529 - val_loss: 0.1484 - val_accuracy: 0.9581\n",
            "Epoch 4/7\n",
            "1500/1500 [==============================] - 4s 2ms/step - loss: 0.1278 - accuracy: 0.9630 - val_loss: 0.1391 - val_accuracy: 0.9599\n",
            "Epoch 5/7\n",
            "1500/1500 [==============================] - 4s 2ms/step - loss: 0.1045 - accuracy: 0.9695 - val_loss: 0.1143 - val_accuracy: 0.9667\n",
            "Epoch 6/7\n",
            "1500/1500 [==============================] - 3s 2ms/step - loss: 0.0862 - accuracy: 0.9765 - val_loss: 0.1106 - val_accuracy: 0.9692\n",
            "Epoch 7/7\n",
            "1500/1500 [==============================] - 4s 2ms/step - loss: 0.0728 - accuracy: 0.9804 - val_loss: 0.0984 - val_accuracy: 0.9709\n"
          ],
          "name": "stdout"
        },
        {
          "output_type": "execute_result",
          "data": {
            "text/plain": [
              "<tensorflow.python.keras.callbacks.History at 0x7f9204cc1e48>"
            ]
          },
          "metadata": {
            "tags": []
          },
          "execution_count": 81
        }
      ]
    },
    {
      "cell_type": "markdown",
      "metadata": {
        "id": "xWRk1V4EqdWO"
      },
      "source": [
        "проверим качество"
      ]
    },
    {
      "cell_type": "code",
      "metadata": {
        "colab": {
          "base_uri": "https://localhost:8080/"
        },
        "id": "Talah05QqfRH",
        "outputId": "9b2210c9-42fa-43f7-c2c5-f1e19ecd1378"
      },
      "source": [
        "print(model1.evaluate(x_test,y_test))"
      ],
      "execution_count": 82,
      "outputs": [
        {
          "output_type": "stream",
          "text": [
            "313/313 [==============================] - 1s 2ms/step - loss: 0.0895 - accuracy: 0.9726\n",
            "[0.08950898051261902, 0.972599983215332]\n"
          ],
          "name": "stdout"
        }
      ]
    },
    {
      "cell_type": "markdown",
      "metadata": {
        "id": "8XmywGcU4B-N"
      },
      "source": [
        "наглядная проверка"
      ]
    },
    {
      "cell_type": "code",
      "metadata": {
        "colab": {
          "base_uri": "https://localhost:8080/",
          "height": 485
        },
        "id": "GeP0jz9Wt6m_",
        "outputId": "bf3091a0-6983-4182-b2c0-40ceff6e4fbe"
      },
      "source": [
        "plt.figure(figsize=(8,8))\n",
        "for i in range(16):\n",
        "  plt.subplot(4,4, i+1)\n",
        "  plt.xticks([])\n",
        "  plt.yticks([])\n",
        "  x = np.expand_dims(x_test[i], axis = 0)\n",
        "  res = model1.predict(x)\n",
        "\n",
        "  plt.imshow(x_test[i], cmap=plt.cm.binary)\n",
        "  plt.title(f\"Это: {np.argmax(res)}\")\n"
      ],
      "execution_count": 83,
      "outputs": [
        {
          "output_type": "display_data",
          "data": {
            "image/png": "[encoded data removed]",
            "text/plain": [
              "<Figure size 576x576 with 16 Axes>"
            ]
          },
          "metadata": {
            "tags": []
          }
        }
      ]
    },
    {
      "cell_type": "markdown",
      "metadata": {
        "id": "oUUzQEaU4E6b"
      },
      "source": [
        "Вторая нейронка. Она реализована на свёрточных сетях"
      ]
    },
    {
      "cell_type": "code",
      "metadata": {
        "id": "N14zwOup4LJY"
      },
      "source": [
        "model2 =  tf.keras.models.Sequential([\n",
        "    tf.keras.layers.Conv2D(input_shape=(28, 28, 1), filters=32, kernel_size=(3,3),activation='relu'),\n",
        "    tf.keras.layers.MaxPool2D(pool_size=(2,2)),\n",
        "    tf.keras.layers.Flatten(),\n",
        "    tf.keras.layers.Dense(512, activation=tf.nn.sigmoid),\n",
        "    tf.keras.layers.Dense(10, activation=tf.nn.softmax)\n",
        "])"
      ],
      "execution_count": 91,
      "outputs": []
    },
    {
      "cell_type": "code",
      "metadata": {
        "id": "LPK93t244Rus"
      },
      "source": [
        "model2.compile(\n",
        "    optimizer = 'adam',\n",
        "    loss= 'sparse_categorical_crossentropy',\n",
        "    metrics= ['accuracy']\n",
        ")"
      ],
      "execution_count": 92,
      "outputs": []
    },
    {
      "cell_type": "code",
      "metadata": {
        "colab": {
          "base_uri": "https://localhost:8080/"
        },
        "id": "IaZD8x604UcE",
        "outputId": "f3c5936d-7fb2-486d-9141-0a8b6d79713e"
      },
      "source": [
        "model2.fit(x_train.reshape(-1, 28, 28, 1),y_train, batch_size=64, epochs=7, validation_split=0.2)"
      ],
      "execution_count": 93,
      "outputs": [
        {
          "output_type": "stream",
          "text": [
            "Epoch 1/7\n",
            "750/750 [==============================] - 44s 58ms/step - loss: 0.2330 - accuracy: 0.9334 - val_loss: 0.0873 - val_accuracy: 0.9752\n",
            "Epoch 2/7\n",
            "750/750 [==============================] - 44s 58ms/step - loss: 0.0721 - accuracy: 0.9787 - val_loss: 0.0654 - val_accuracy: 0.9806\n",
            "Epoch 3/7\n",
            "750/750 [==============================] - 45s 60ms/step - loss: 0.0455 - accuracy: 0.9866 - val_loss: 0.0604 - val_accuracy: 0.9833\n",
            "Epoch 4/7\n",
            "750/750 [==============================] - 44s 58ms/step - loss: 0.0332 - accuracy: 0.9896 - val_loss: 0.0500 - val_accuracy: 0.9852\n",
            "Epoch 5/7\n",
            "750/750 [==============================] - 47s 63ms/step - loss: 0.0223 - accuracy: 0.9931 - val_loss: 0.0486 - val_accuracy: 0.9855\n",
            "Epoch 6/7\n",
            "750/750 [==============================] - 44s 58ms/step - loss: 0.0155 - accuracy: 0.9954 - val_loss: 0.0472 - val_accuracy: 0.9864\n",
            "Epoch 7/7\n",
            "750/750 [==============================] - 44s 58ms/step - loss: 0.0096 - accuracy: 0.9974 - val_loss: 0.0557 - val_accuracy: 0.9847\n"
          ],
          "name": "stdout"
        },
        {
          "output_type": "execute_result",
          "data": {
            "text/plain": [
              "<tensorflow.python.keras.callbacks.History at 0x7f9204e5ecc0>"
            ]
          },
          "metadata": {
            "tags": []
          },
          "execution_count": 93
        }
      ]
    },
    {
      "cell_type": "code",
      "metadata": {
        "colab": {
          "base_uri": "https://localhost:8080/"
        },
        "id": "iStWz4kzDpaZ",
        "outputId": "f272fb2e-07fa-4fc6-c978-da0213069e1e"
      },
      "source": [
        "print(model2.evaluate(x_test.reshape(-1, 28, 28, 1),y_test))"
      ],
      "execution_count": 94,
      "outputs": [
        {
          "output_type": "stream",
          "text": [
            "313/313 [==============================] - 4s 11ms/step - loss: 0.0435 - accuracy: 0.9862\n",
            "[0.043528832495212555, 0.9861999750137329]\n"
          ],
          "name": "stdout"
        }
      ]
    },
    {
      "cell_type": "code",
      "metadata": {
        "colab": {
          "base_uri": "https://localhost:8080/",
          "height": 485
        },
        "id": "dp0tcMWfT6kP",
        "outputId": "b0c525c7-8f2b-4016-e7f1-00a04cd7a432"
      },
      "source": [
        "plt.figure(figsize=(8,8))\n",
        "for i in range(16):\n",
        "  plt.subplot(4,4, i+1)\n",
        "  plt.xticks([])\n",
        "  plt.yticks([])\n",
        "  x = np.expand_dims(x_test[i], axis = 0)\n",
        "  res = model2.predict(x.reshape(-1, 28, 28, 1))\n",
        "\n",
        "  plt.imshow(x_test[i], cmap=plt.cm.binary)\n",
        "  plt.title(f\"Это: {np.argmax(res)}\")\n"
      ],
      "execution_count": 63,
      "outputs": [
        {
          "output_type": "display_data",
          "data": {
            "image/png": "[encoded data removed]",
            "text/plain": [
              "<Figure size 576x576 with 16 Axes>"
            ]
          },
          "metadata": {
            "tags": []
          }
        }
      ]
    },
    {
      "cell_type": "code",
      "metadata": {
        "id": "f3VhHt4mDzHY"
      },
      "source": [
        "model3 =  tf.keras.models.Sequential([\n",
        "    #Первый коволюционный слой определяет прямые\n",
        "    tf.keras.layers.Conv2D(input_shape=(28, 28, 1), filters=32, kernel_size=(3,3),activation='relu'),\n",
        "    tf.keras.layers.MaxPool2D(pool_size=(2,2)),\n",
        "    #Первый коволюционный слой определяет уже углы между этими прямыми\n",
        "    tf.keras.layers.Conv2D( filters=64, kernel_size=(3,3),activation='relu'),\n",
        "    tf.keras.layers.MaxPool2D(pool_size=(2,2)),\n",
        "    tf.keras.layers.Flatten(),\n",
        "    tf.keras.layers.Dense(1024, activation=tf.nn.relu),\n",
        "    tf.keras.layers.Dropout(0.4),\n",
        "    tf.keras.layers.Dense(10, activation=tf.nn.softmax)\n",
        "])"
      ],
      "execution_count": 123,
      "outputs": []
    },
    {
      "cell_type": "code",
      "metadata": {
        "id": "-7QtRc8fVIIl"
      },
      "source": [
        "model3.compile(\n",
        "    optimizer = 'adam',\n",
        "    loss= 'sparse_categorical_crossentropy',\n",
        "    metrics= ['accuracy']\n",
        ")"
      ],
      "execution_count": 124,
      "outputs": []
    },
    {
      "cell_type": "code",
      "metadata": {
        "colab": {
          "base_uri": "https://localhost:8080/"
        },
        "id": "qzHuq2D7VLWQ",
        "outputId": "331b4309-c4fe-4d06-9096-df314d742f0f"
      },
      "source": [
        "model3.fit(x_train.reshape(-1, 28, 28, 1),y_train, batch_size=32, epochs=7, validation_split=0.2)"
      ],
      "execution_count": 125,
      "outputs": [
        {
          "output_type": "stream",
          "text": [
            "Epoch 1/7\n",
            "1500/1500 [==============================] - 70s 47ms/step - loss: 0.1378 - accuracy: 0.9572 - val_loss: 0.0584 - val_accuracy: 0.9809\n",
            "Epoch 2/7\n",
            "1500/1500 [==============================] - 73s 49ms/step - loss: 0.0494 - accuracy: 0.9845 - val_loss: 0.0475 - val_accuracy: 0.9869\n",
            "Epoch 3/7\n",
            "1500/1500 [==============================] - 70s 47ms/step - loss: 0.0339 - accuracy: 0.9893 - val_loss: 0.0399 - val_accuracy: 0.9878\n",
            "Epoch 4/7\n",
            "1500/1500 [==============================] - 70s 47ms/step - loss: 0.0247 - accuracy: 0.9922 - val_loss: 0.0493 - val_accuracy: 0.9862\n",
            "Epoch 5/7\n",
            "1500/1500 [==============================] - 71s 47ms/step - loss: 0.0204 - accuracy: 0.9936 - val_loss: 0.0376 - val_accuracy: 0.9904\n",
            "Epoch 6/7\n",
            "1500/1500 [==============================] - 71s 47ms/step - loss: 0.0179 - accuracy: 0.9941 - val_loss: 0.0585 - val_accuracy: 0.9878\n",
            "Epoch 7/7\n",
            "1500/1500 [==============================] - 72s 48ms/step - loss: 0.0147 - accuracy: 0.9952 - val_loss: 0.0475 - val_accuracy: 0.9889\n"
          ],
          "name": "stdout"
        },
        {
          "output_type": "execute_result",
          "data": {
            "text/plain": [
              "<tensorflow.python.keras.callbacks.History at 0x7f91e9fa3860>"
            ]
          },
          "metadata": {
            "tags": []
          },
          "execution_count": 125
        }
      ]
    },
    {
      "cell_type": "code",
      "metadata": {
        "colab": {
          "base_uri": "https://localhost:8080/"
        },
        "id": "4XsisNYQrD3M",
        "outputId": "2942637e-77b0-4623-9e0e-50442779aa95"
      },
      "source": [
        "print(model3.evaluate(x_test.reshape(-1, 28, 28, 1),y_test))\n"
      ],
      "execution_count": 126,
      "outputs": [
        {
          "output_type": "stream",
          "text": [
            "313/313 [==============================] - 4s 13ms/step - loss: 0.0353 - accuracy: 0.9905\n",
            "[0.03530866280198097, 0.9904999732971191]\n"
          ],
          "name": "stdout"
        }
      ]
    },
    {
      "cell_type": "code",
      "metadata": {
        "colab": {
          "base_uri": "https://localhost:8080/",
          "height": 485
        },
        "id": "KO80wXAqrHzw",
        "outputId": "98f92022-f90b-4886-afb5-6e71ae241761"
      },
      "source": [
        "plt.figure(figsize=(8,8))\n",
        "for i in range(16):\n",
        "  plt.subplot(4,4, i+1)\n",
        "  plt.xticks([])\n",
        "  plt.yticks([])\n",
        "  x = np.expand_dims(x_test[i], axis = 0)\n",
        "  res = model3.predict(x.reshape(-1, 28, 28, 1))\n",
        "\n",
        "  plt.imshow(x_test[i], cmap=plt.cm.binary)\n",
        "  plt.title(f\"Это: {np.argmax(res)}\")"
      ],
      "execution_count": 127,
      "outputs": [
        {
          "output_type": "display_data",
          "data": {
            "image/png": "[encoded data removed]",
            "text/plain": [
              "<Figure size 576x576 with 16 Axes>"
            ]
          },
          "metadata": {
            "tags": []
          }
        }
      ]
    },
    {
      "cell_type": "code",
      "metadata": {
        "id": "k_f-CKO247li"
      },
      "source": [
        ""
      ],
      "execution_count": null,
      "outputs": []
    }
  ]
}